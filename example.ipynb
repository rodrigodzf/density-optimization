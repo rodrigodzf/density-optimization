{
 "metadata": {
  "language_info": {
   "codemirror_mode": {
    "name": "ipython",
    "version": 3
   },
   "file_extension": ".py",
   "mimetype": "text/x-python",
   "name": "python",
   "nbconvert_exporter": "python",
   "pygments_lexer": "ipython3",
   "version": "3.7.6-final"
  },
  "orig_nbformat": 2,
  "kernelspec": {
   "name": "python37664bittestcondaf0be5650a45e4184b5219bdbc3714479",
   "display_name": "Python 3.7.6 64-bit ('test': conda)"
  }
 },
 "nbformat": 4,
 "nbformat_minor": 2,
 "cells": [
  {
   "cell_type": "code",
   "execution_count": 1,
   "metadata": {},
   "outputs": [],
   "source": [
    "from music21 import chord\n",
    "import torch.nn.functional as F\n",
    "import torch\n",
    "from synthesizer import Player, Synthesizer, Waveform\n",
    "from density import density\n",
    "player_init = False"
   ]
  },
  {
   "cell_type": "code",
   "execution_count": 6,
   "metadata": {},
   "outputs": [],
   "source": [
    "# set up the target chord and a random input chord\n",
    "ch = chord.Chord(['F', 'A', 'C5'])\n",
    "target = torch.tensor([pitch.frequency for pitch in ch.pitches])\n",
    "\n",
    "# input_chord = [pitch.frequency for pitch in chord.Chord(\n",
    "#               ['C', 'A', 'A', 'C', 'C']).pitches]\n",
    "\n",
    "input = torch.tensor(torch.rand((100)) * 400, requires_grad=True)\n",
    "\n",
    "# set up optimizer and loss\n",
    "optimizer = torch.optim.Adam([input], lr=1e-1)\n",
    "loss_fn = torch.nn.L1Loss()"
   ]
  },
  {
   "cell_type": "code",
   "execution_count": 7,
   "metadata": {},
   "outputs": [],
   "source": [
    "# optimization loop\n",
    "for i in range(5000):\n",
    "\n",
    "    optimizer.zero_grad()\n",
    "    loss = loss_fn(density(input), density(target))\n",
    "    loss.backward()\n",
    "    optimizer.step()"
   ]
  },
  {
   "cell_type": "code",
   "execution_count": 8,
   "metadata": {
    "tags": []
   },
   "outputs": [
    {
     "output_type": "stream",
     "name": "stdout",
     "text": "input density 1.3033148050308228, target density 1.303205132484436\n"
    }
   ],
   "source": [
    "input = input.detach().cpu()\n",
    "target = target.detach().cpu()\n",
    "# print('input', input)\n",
    "# print('target', target)\n",
    "print(f'input density {density(input)}, target density {density(target)}')"
   ]
  },
  {
   "cell_type": "code",
   "execution_count": 9,
   "metadata": {
    "tags": []
   },
   "outputs": [],
   "source": [
    "# play result\n",
    "if not player_init:\n",
    "    player = Player()\n",
    "    player.enumerate_device()\n",
    "    player.open_stream(device_name=\"HD-Audio Generic: ALC1220 Analog (hw:1,0)\")\n",
    "    synthesizer = Synthesizer(osc1_waveform=Waveform.sine,\n",
    "                            osc1_volume=1.0, use_osc2=False)\n",
    "    player_init = True\n",
    "player.play_wave(synthesizer.generate_chord(input.tolist(), 2.0))"
   ]
  },
  {
   "cell_type": "code",
   "execution_count": 19,
   "metadata": {},
   "outputs": [
    {
     "output_type": "execute_result",
     "data": {
      "text/plain": "tensor([251.5066, 222.4198, 282.6039,  59.5248,  69.8243])"
     },
     "metadata": {},
     "execution_count": 19
    }
   ],
   "source": []
  },
  {
   "cell_type": "code",
   "execution_count": null,
   "metadata": {},
   "outputs": [],
   "source": []
  }
 ]
}